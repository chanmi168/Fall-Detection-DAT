{
 "cells": [
  {
   "cell_type": "markdown",
   "metadata": {
    "colab_type": "text",
    "id": "nswy3ke-TUyA"
   },
   "source": [
    "# import packages and get authenticated"
   ]
  },
  {
   "cell_type": "code",
   "execution_count": 1,
   "metadata": {
    "colab": {
     "base_uri": "https://localhost:8080/",
     "height": 34
    },
    "colab_type": "code",
    "executionInfo": {
     "elapsed": 1023,
     "status": "ok",
     "timestamp": 1584356235759,
     "user": {
      "displayName": "MICHAEL CHAN",
      "photoUrl": "",
      "userId": "10621351606155040584"
     },
     "user_tz": -480
    },
    "id": "dR0gs1Ya0xmy",
    "outputId": "ea91230c-92d0-48b5-b715-46d87478b30d"
   },
   "outputs": [],
   "source": [
    "# from google.colab import drive\n",
    "# drive.mount('drive')"
   ]
  },
  {
   "cell_type": "code",
   "execution_count": 2,
   "metadata": {
    "colab": {},
    "colab_type": "code",
    "id": "DD6EM010PDWn"
   },
   "outputs": [],
   "source": [
    "import numpy as np\n",
    "import pandas as pd\n",
    "pd.set_option('display.max_columns', 500)\n",
    "\n",
    "# Plotting\n",
    "# checklist 1: comment inline, uncomment Agg\n",
    "%matplotlib inline\n",
    "import matplotlib\n",
    "# matplotlib.use('Agg')\n",
    "import matplotlib.pyplot as plt\n",
    "matplotlib.rc( 'savefig', facecolor = 'white' )\n",
    "\n",
    "# from tqdm import tqdm_notebook as tqdm\n",
    "from tqdm import tqdm\n",
    "import argparse\n",
    "import os\n",
    "import sys\n",
    "sys.path.append('/content/drive/My Drive/中研院/repo/')\n",
    "sys.path.append('~/project_FDDAT/repo/')\n",
    "sys.path.append('../') # add this line so Data and data are visible in this file\n",
    "\n",
    "from falldetect.utilities import *\n",
    "\n",
    "import time\n",
    "import datetime\n",
    "from datetime import datetime\n",
    "\n",
    "from sklearn.decomposition import PCA\n",
    "\n",
    "from os.path import expanduser\n",
    "home = expanduser(\"~\")\n",
    "# home_dir = home+'/project_FDDAT/'\n",
    "\n",
    "# split_mode = 'LOO'\n",
    "# split_mode = '5fold'"
   ]
  },
  {
   "cell_type": "markdown",
   "metadata": {
    "colab": {},
    "colab_type": "code",
    "id": "RwxN85X7YeSx"
   },
   "source": [
    "# Get user inputs\n",
    "In ipython notebook, these are hardcoded. In production python code, use parsers to provide these inputs"
   ]
  },
  {
   "cell_type": "code",
   "execution_count": 3,
   "metadata": {},
   "outputs": [],
   "source": [
    "parser = argparse.ArgumentParser(description='FD_DAT')\n",
    "parser.add_argument('--dataset_name', metavar='dataset_name', help='dataset_name',\n",
    "                    default='SFDLA')\n",
    "parser.add_argument('--sensor_loc', metavar='sensor_loc', help='sensor_loc',\n",
    "                    default='ankle')\n",
    "parser.add_argument('--input_dir', metavar='input_dir', help='path to input_dir',\n",
    "                    default='../')\n",
    "parser.add_argument('--output_dir', metavar='output_dir', help='path to output_dir',\n",
    "                    default='../')\n",
    "parser.add_argument('--split_mode', metavar='split_mode', help='split_mode',\n",
    "                    default='5fold')\n",
    "parser.add_argument('--i_seed', type=int, metavar='i_seed', help='seed number',\n",
    "                    default='0')\n",
    "# split_mode = 'LOO'\n",
    "# split_mode = '5fold'\n",
    "\n",
    "# checklist 2: comment first line, uncomment second line seizures_FN\n",
    "args = parser.parse_args(['--input_dir', '../../Data/{}/ImpactWindow_Resample_NormalforAllAxes/18hz/{}/',\n",
    "                          '--output_dir', '../../data_mic/stage1_preprocessed_NormalforAllAxes_18hz_{}/{}/{}/', \n",
    "                          '--dataset_name', 'SFDLA', \n",
    "                          '--sensor_loc', 'ankle',\n",
    "                          '--split_mode', '5fold',\n",
    "                          '--i_seed', '1'])\n",
    "\n",
    "\n",
    "\n",
    "# args = parser.parse_args()"
   ]
  },
  {
   "cell_type": "code",
   "execution_count": 4,
   "metadata": {},
   "outputs": [],
   "source": [
    "input_dir = args.input_dir\n",
    "output_dir = args.output_dir\n",
    "dataset_name = args.dataset_name\n",
    "sensor_loc = args.sensor_loc\n",
    "home_dir = home+'/project_FDDAT/'\n",
    "split_mode = args.split_mode\n",
    "i_seed = args.i_seed"
   ]
  },
  {
   "cell_type": "markdown",
   "metadata": {
    "colab_type": "text",
    "id": "8Jea1QX1Yezf"
   },
   "source": [
    "# load data_management (all) first"
   ]
  },
  {
   "cell_type": "code",
   "execution_count": 5,
   "metadata": {},
   "outputs": [
    {
     "name": "stdout",
     "output_type": "stream",
     "text": [
      "will export data to /home/mchan2020/project_FDDAT/data_mic/stage1_preprocessed_18hz_5fold/SFDLA/ankle/\n"
     ]
    }
   ],
   "source": [
    "DataNameList_inputdir = home_dir + 'Data/{}/ImpactWindow_Resample/18hz/{}/IP_{}_DataNameList_{}.csv'.format(dataset_name, sensor_loc, dataset_name, sensor_loc)\n",
    "impact_inputdir = home_dir + 'Data/{}/ImpactWindow_Resample/18hz/{}/'.format(dataset_name, sensor_loc)\n",
    "outputdir = home_dir + 'data_mic/stage1_preprocessed_18hz_{}/{}/{}/'.format(split_mode, dataset_name, sensor_loc)\n",
    "if not os.path.exists(outputdir):\n",
    "    os.makedirs(outputdir)\n",
    "print('will export data to', outputdir)\n",
    "\n",
    "df = pd.read_csv(DataNameList_inputdir)"
   ]
  },
  {
   "cell_type": "code",
   "execution_count": 6,
   "metadata": {},
   "outputs": [
    {
     "data": {
      "text/html": [
       "<div>\n",
       "<style scoped>\n",
       "    .dataframe tbody tr th:only-of-type {\n",
       "        vertical-align: middle;\n",
       "    }\n",
       "\n",
       "    .dataframe tbody tr th {\n",
       "        vertical-align: top;\n",
       "    }\n",
       "\n",
       "    .dataframe thead th {\n",
       "        text-align: right;\n",
       "    }\n",
       "</style>\n",
       "<table border=\"1\" class=\"dataframe\">\n",
       "  <thead>\n",
       "    <tr style=\"text-align: right;\">\n",
       "      <th></th>\n",
       "      <th>x_x_DataName</th>\n",
       "      <th>Subject</th>\n",
       "      <th>Activity_ID</th>\n",
       "      <th>Trial</th>\n",
       "      <th>Position_340506Head_340527Chest_340535Waist_340537RightWris_340</th>\n",
       "      <th>FALL_1__ADL_0_</th>\n",
       "    </tr>\n",
       "  </thead>\n",
       "  <tbody>\n",
       "    <tr>\n",
       "      <th>0</th>\n",
       "      <td>101_801_Test_1_340540_IP.csv</td>\n",
       "      <td>101</td>\n",
       "      <td>801</td>\n",
       "      <td>1</td>\n",
       "      <td>340540</td>\n",
       "      <td>0</td>\n",
       "    </tr>\n",
       "    <tr>\n",
       "      <th>1</th>\n",
       "      <td>101_801_Test_2_340540_IP.csv</td>\n",
       "      <td>101</td>\n",
       "      <td>801</td>\n",
       "      <td>2</td>\n",
       "      <td>340540</td>\n",
       "      <td>0</td>\n",
       "    </tr>\n",
       "    <tr>\n",
       "      <th>2</th>\n",
       "      <td>101_801_Test_3_340540_IP.csv</td>\n",
       "      <td>101</td>\n",
       "      <td>801</td>\n",
       "      <td>3</td>\n",
       "      <td>340540</td>\n",
       "      <td>0</td>\n",
       "    </tr>\n",
       "    <tr>\n",
       "      <th>3</th>\n",
       "      <td>101_801_Test_4_340540_IP.csv</td>\n",
       "      <td>101</td>\n",
       "      <td>801</td>\n",
       "      <td>4</td>\n",
       "      <td>340540</td>\n",
       "      <td>0</td>\n",
       "    </tr>\n",
       "    <tr>\n",
       "      <th>4</th>\n",
       "      <td>101_801_Test_5_340540_IP.csv</td>\n",
       "      <td>101</td>\n",
       "      <td>801</td>\n",
       "      <td>5</td>\n",
       "      <td>340540</td>\n",
       "      <td>0</td>\n",
       "    </tr>\n",
       "  </tbody>\n",
       "</table>\n",
       "</div>"
      ],
      "text/plain": [
       "                   x_x_DataName  Subject  Activity_ID  Trial  \\\n",
       "0  101_801_Test_1_340540_IP.csv      101          801      1   \n",
       "1  101_801_Test_2_340540_IP.csv      101          801      2   \n",
       "2  101_801_Test_3_340540_IP.csv      101          801      3   \n",
       "3  101_801_Test_4_340540_IP.csv      101          801      4   \n",
       "4  101_801_Test_5_340540_IP.csv      101          801      5   \n",
       "\n",
       "   Position_340506Head_340527Chest_340535Waist_340537RightWris_340  \\\n",
       "0                                             340540                 \n",
       "1                                             340540                 \n",
       "2                                             340540                 \n",
       "3                                             340540                 \n",
       "4                                             340540                 \n",
       "\n",
       "   FALL_1__ADL_0_  \n",
       "0               0  \n",
       "1               0  \n",
       "2               0  \n",
       "3               0  \n",
       "4               0  "
      ]
     },
     "execution_count": 6,
     "metadata": {},
     "output_type": "execute_result"
    }
   ],
   "source": [
    "df.head(5)"
   ]
  },
  {
   "cell_type": "code",
   "execution_count": null,
   "metadata": {
    "colab": {
     "base_uri": "https://localhost:8080/",
     "height": 204
    },
    "colab_type": "code",
    "executionInfo": {
     "elapsed": 2477,
     "status": "ok",
     "timestamp": 1584356237262,
     "user": {
      "displayName": "MICHAEL CHAN",
      "photoUrl": "",
      "userId": "10621351606155040584"
     },
     "user_tz": -480
    },
    "id": "bGqJRh6jrUra",
    "outputId": "d35d957e-f952-46e5-87cb-fbaa21dde907"
   },
   "outputs": [],
   "source": []
  },
  {
   "cell_type": "code",
   "execution_count": null,
   "metadata": {
    "colab": {},
    "colab_type": "code",
    "id": "w0QwXT0b8Ltq"
   },
   "outputs": [],
   "source": []
  },
  {
   "cell_type": "code",
   "execution_count": 7,
   "metadata": {
    "colab": {
     "base_uri": "https://localhost:8080/",
     "height": 34
    },
    "colab_type": "code",
    "executionInfo": {
     "elapsed": 2447,
     "status": "ok",
     "timestamp": 1584356237263,
     "user": {
      "displayName": "MICHAEL CHAN",
      "photoUrl": "",
      "userId": "10621351606155040584"
     },
     "user_tz": -480
    },
    "id": "2DutI5UfmZVl",
    "outputId": "e3233782-9718-4796-fbe9-ec63872d49ee"
   },
   "outputs": [
    {
     "data": {
      "text/plain": [
       "{801: 0,\n",
       " 802: 1,\n",
       " 803: 2,\n",
       " 804: 3,\n",
       " 805: 4,\n",
       " 806: 5,\n",
       " 807: 6,\n",
       " 808: 7,\n",
       " 809: 8,\n",
       " 810: 9,\n",
       " 811: 10,\n",
       " 812: 11,\n",
       " 813: 12,\n",
       " 814: 13,\n",
       " 815: 14,\n",
       " 816: 15,\n",
       " 901: 16,\n",
       " 902: 17,\n",
       " 903: 18,\n",
       " 904: 19,\n",
       " 905: 20,\n",
       " 906: 21,\n",
       " 907: 22,\n",
       " 908: 23,\n",
       " 909: 24,\n",
       " 910: 25,\n",
       " 911: 26,\n",
       " 912: 27,\n",
       " 913: 28,\n",
       " 914: 29,\n",
       " 915: 30,\n",
       " 916: 31,\n",
       " 917: 32,\n",
       " 918: 33,\n",
       " 919: 34,\n",
       " 920: 35}"
      ]
     },
     "execution_count": 7,
     "metadata": {},
     "output_type": "execute_result"
    }
   ],
   "source": [
    "act_names = df['Activity_ID'].unique()\n",
    "act_embeddings = { act_names[i] : i for i in range(0, act_names.shape[0] ) }\n",
    "act_embeddings"
   ]
  },
  {
   "cell_type": "code",
   "execution_count": 8,
   "metadata": {
    "colab": {},
    "colab_type": "code",
    "id": "PwJcZZcKPa_Y"
   },
   "outputs": [],
   "source": [
    "sensor_loc_dict = {\n",
    "    1: 'ankle',\n",
    "    2: 'rightpocket',\n",
    "    3: 'belt',\n",
    "    4: 'beck',\n",
    "    5: 'wrist' \n",
    "}"
   ]
  },
  {
   "cell_type": "code",
   "execution_count": null,
   "metadata": {
    "colab": {},
    "colab_type": "code",
    "id": "U2CMCpArdhC3"
   },
   "outputs": [],
   "source": []
  },
  {
   "cell_type": "code",
   "execution_count": null,
   "metadata": {
    "colab": {},
    "colab_type": "code",
    "id": "OYZl0lXfnq-v"
   },
   "outputs": [],
   "source": []
  },
  {
   "cell_type": "code",
   "execution_count": null,
   "metadata": {
    "colab": {},
    "colab_type": "code",
    "id": "rXBx2pqPEm6n"
   },
   "outputs": [],
   "source": []
  },
  {
   "cell_type": "code",
   "execution_count": 9,
   "metadata": {
    "colab": {
     "base_uri": "https://localhost:8080/",
     "height": 66,
     "referenced_widgets": [
      "115f8f9561b440a8a609416513b217fd",
      "88879110cb1d46229d89dba9d4ba1d2e",
      "929c49d294e6495088af9b1efb3e7c64",
      "2ffab2cf5d1944d48271910f6bdf9f18",
      "3cf6c86ed78f45a1a6e75dc5196a219c",
      "dd6a94b24e9c4556b0951c1bab2301e9",
      "b515c7b11eed4a299da2d94b33422b51",
      "a9a8e69de7864086bb12f480644c74dc"
     ]
    },
    "colab_type": "code",
    "executionInfo": {
     "elapsed": 3894,
     "status": "ok",
     "timestamp": 1584356238794,
     "user": {
      "displayName": "MICHAEL CHAN",
      "photoUrl": "",
      "userId": "10621351606155040584"
     },
     "user_tz": -480
    },
    "id": "PfGH9SNEPbbc",
    "outputId": "bcb88f08-c8cf-415a-97fe-cf2aa5ae3d38"
   },
   "outputs": [
    {
     "name": "stderr",
     "output_type": "stream",
     "text": [
      "<ipython-input-9-071c0d68841a>:11: TqdmDeprecationWarning: This function will be removed in tqdm==5.0.0\n",
      "Please use `tqdm.notebook.tqdm` instead of `tqdm.tqdm_notebook`\n",
      "  for filename in tqdm(df['x_x_DataName']):\n"
     ]
    },
    {
     "data": {
      "application/vnd.jupyter.widget-view+json": {
       "model_id": "3c7905833161450b956cd03e0fe58e86",
       "version_major": 2,
       "version_minor": 0
      },
      "text/plain": [
       "HBox(children=(FloatProgress(value=0.0, max=3113.0), HTML(value='')))"
      ]
     },
     "metadata": {},
     "output_type": "display_data"
    },
    {
     "name": "stdout",
     "output_type": "stream",
     "text": [
      "\n"
     ]
    }
   ],
   "source": [
    "temp = pd.read_csv(impact_inputdir+df['x_x_DataName'][0], header=None)\n",
    "\n",
    "window_length = temp.shape[0]\n",
    "samples_n = df.shape[0]\n",
    "\n",
    "data_all = np.zeros((window_length,3,samples_n))\n",
    "actlabels_all = np.zeros((samples_n,))\n",
    "sub_all = np.zeros((samples_n,))\n",
    "\n",
    "i = 0\n",
    "for filename in tqdm(df['x_x_DataName']):\n",
    "    sub_id = int(filename.split('_')[0])\n",
    "#     activity_id = int(filename.split('_')[1])\n",
    "    activity_id = df[df['x_x_DataName']==filename]['FALL_1__ADL_0_']\n",
    "    location = int(filename.split('_')[3])\n",
    "\n",
    "    df_imp = pd.read_csv(impact_inputdir+filename, header=None)\n",
    "\n",
    "    data_all[:,:,i] = df_imp.to_numpy()\n",
    "    actlabels_all[i] = activity_id\n",
    "    sub_all[i] = sub_id\n",
    "    i += 1"
   ]
  },
  {
   "cell_type": "code",
   "execution_count": 10,
   "metadata": {
    "colab": {
     "base_uri": "https://localhost:8080/",
     "height": 34
    },
    "colab_type": "code",
    "executionInfo": {
     "elapsed": 3873,
     "status": "ok",
     "timestamp": 1584356238795,
     "user": {
      "displayName": "MICHAEL CHAN",
      "photoUrl": "",
      "userId": "10621351606155040584"
     },
     "user_tz": -480
    },
    "id": "heoC0Jn-oS2J",
    "outputId": "80afe77a-3e81-43bf-87d2-9b7a9c420810"
   },
   "outputs": [
    {
     "name": "stdout",
     "output_type": "stream",
     "text": [
      "fall_n, adl_n: 1722 1391\n"
     ]
    }
   ],
   "source": [
    "# fall_n = (actlabels_all==10).sum()+(actlabels_all==11).sum()+(actlabels_all==12).sum()\n",
    "fall_n = (actlabels_all==1).sum()\n",
    "adl_n = (actlabels_all==0).sum()\n",
    "print('fall_n, adl_n:', fall_n, adl_n)"
   ]
  },
  {
   "cell_type": "code",
   "execution_count": 11,
   "metadata": {
    "colab": {
     "base_uri": "https://localhost:8080/",
     "height": 85
    },
    "colab_type": "code",
    "executionInfo": {
     "elapsed": 4379,
     "status": "ok",
     "timestamp": 1584356239364,
     "user": {
      "displayName": "MICHAEL CHAN",
      "photoUrl": "",
      "userId": "10621351606155040584"
     },
     "user_tz": -480
    },
    "id": "rkjvSVY-pWD6",
    "outputId": "605f3814-4720-4671-b419-f49efaa1609e"
   },
   "outputs": [
    {
     "data": {
      "text/plain": [
       "array([   0,    1,    2, ..., 2988, 2989, 2990])"
      ]
     },
     "execution_count": 11,
     "metadata": {},
     "output_type": "execute_result"
    }
   ],
   "source": [
    "np.where(actlabels_all==0)[0]"
   ]
  },
  {
   "cell_type": "code",
   "execution_count": 12,
   "metadata": {
    "colab": {
     "base_uri": "https://localhost:8080/",
     "height": 85
    },
    "colab_type": "code",
    "executionInfo": {
     "elapsed": 4347,
     "status": "ok",
     "timestamp": 1584356239365,
     "user": {
      "displayName": "MICHAEL CHAN",
      "photoUrl": "",
      "userId": "10621351606155040584"
     },
     "user_tz": -480
    },
    "id": "VOHWDgb8Cb8R",
    "outputId": "beb1edbb-4d7d-48a2-8990-20e8810d965b"
   },
   "outputs": [
    {
     "name": "stdout",
     "output_type": "stream",
     "text": [
      "finished reading data in data_management SFDLA at ankle\n",
      "Dimension of data (66, 3, 3113)\n",
      "number of activities 2\n",
      "number of subject 16\n"
     ]
    }
   ],
   "source": [
    "samples_n = data_all.shape[2]\n",
    "labels_n = np.shape(np.unique(actlabels_all))[0]\n",
    "subjects_n = np.shape(np.unique(sub_all))[0]\n",
    "print('finished reading data in data_management {} at {}'.format(dataset_name, sensor_loc))\n",
    "print('Dimension of data', data_all.shape)\n",
    "print('number of activities', labels_n)\n",
    "print('number of subject', subjects_n)"
   ]
  },
  {
   "cell_type": "code",
   "execution_count": 13,
   "metadata": {
    "colab": {
     "base_uri": "https://localhost:8080/",
     "height": 34
    },
    "colab_type": "code",
    "executionInfo": {
     "elapsed": 4297,
     "status": "ok",
     "timestamp": 1584356239365,
     "user": {
      "displayName": "MICHAEL CHAN",
      "photoUrl": "",
      "userId": "10621351606155040584"
     },
     "user_tz": -480
    },
    "id": "8Fudw3az5ZeE",
    "outputId": "27d8fd5b-817d-46c4-fab6-4de7b49c2664"
   },
   "outputs": [
    {
     "data": {
      "text/plain": [
       "(3113,)"
      ]
     },
     "execution_count": 13,
     "metadata": {},
     "output_type": "execute_result"
    }
   ],
   "source": [
    "sub_all.shape"
   ]
  },
  {
   "cell_type": "code",
   "execution_count": 14,
   "metadata": {
    "colab": {},
    "colab_type": "code",
    "id": "Lht0gzycGde0"
   },
   "outputs": [
    {
     "data": {
      "text/plain": [
       "3113"
      ]
     },
     "execution_count": 14,
     "metadata": {},
     "output_type": "execute_result"
    }
   ],
   "source": [
    "data_all.shape[2]"
   ]
  },
  {
   "cell_type": "code",
   "execution_count": 15,
   "metadata": {},
   "outputs": [
    {
     "data": {
      "text/plain": [
       "array([0., 0., 0., ..., 1., 1., 1.])"
      ]
     },
     "execution_count": 15,
     "metadata": {},
     "output_type": "execute_result"
    }
   ],
   "source": [
    "actlabels_all"
   ]
  },
  {
   "cell_type": "code",
   "execution_count": null,
   "metadata": {},
   "outputs": [],
   "source": []
  },
  {
   "cell_type": "code",
   "execution_count": 28,
   "metadata": {
    "colab": {
     "base_uri": "https://localhost:8080/",
     "height": 1000
    },
    "colab_type": "code",
    "executionInfo": {
     "elapsed": 6404,
     "status": "ok",
     "timestamp": 1584356241512,
     "user": {
      "displayName": "MICHAEL CHAN",
      "photoUrl": "",
      "userId": "10621351606155040584"
     },
     "user_tz": -480
    },
    "id": "8Mi9hHHdm87Z",
    "outputId": "465a6ffc-61ac-4b0b-99f8-01ee56d49b65"
   },
   "outputs": [
    {
     "data": {
      "image/png": "[encoded data removed]",
      "text/plain": [
       "<Figure size 432x288 with 1 Axes>"
      ]
     },
     "metadata": {
      "needs_background": "light"
     },
     "output_type": "display_data"
    },
    {
     "data": {
      "image/png": "[encoded data removed]",
      "text/plain": [
       "<Figure size 432x288 with 1 Axes>"
      ]
     },
     "metadata": {
      "needs_background": "light"
     },
     "output_type": "display_data"
    },
    {
     "data": {
      "image/png": "[encoded data removed]",
      "text/plain": [
       "<Figure size 432x288 with 1 Axes>"
      ]
     },
     "metadata": {
      "needs_background": "light"
     },
     "output_type": "display_data"
    },
    {
     "data": {
      "image/png": "[encoded data removed]",
      "text/plain": [
       "<Figure size 432x288 with 1 Axes>"
      ]
     },
     "metadata": {
      "needs_background": "light"
     },
     "output_type": "display_data"
    },
    {
     "data": {
      "image/png": "[encoded data removed]",
      "text/plain": [
       "<Figure size 432x288 with 1 Axes>"
      ]
     },
     "metadata": {
      "needs_background": "light"
     },
     "output_type": "display_data"
    },
    {
     "data": {
      "image/png": "[encoded data removed]",
      "text/plain": [
       "<Figure size 432x288 with 1 Axes>"
      ]
     },
     "metadata": {
      "needs_background": "light"
     },
     "output_type": "display_data"
    },
    {
     "data": {
      "image/png": "[encoded data removed]",
      "text/plain": [
       "<Figure size 432x288 with 1 Axes>"
      ]
     },
     "metadata": {
      "needs_background": "light"
     },
     "output_type": "display_data"
    },
    {
     "data": {
      "image/png": "[encoded data removed]",
      "text/plain": [
       "<Figure size 432x288 with 1 Axes>"
      ]
     },
     "metadata": {
      "needs_background": "light"
     },
     "output_type": "display_data"
    },
    {
     "data": {
      "image/png": "[encoded data removed]",
      "text/plain": [
       "<Figure size 432x288 with 1 Axes>"
      ]
     },
     "metadata": {
      "needs_background": "light"
     },
     "output_type": "display_data"
    },
    {
     "data": {
      "image/png": "[encoded data removed]",
      "text/plain": [
       "<Figure size 432x288 with 1 Axes>"
      ]
     },
     "metadata": {
      "needs_background": "light"
     },
     "output_type": "display_data"
    },
    {
     "data": {
      "image/png": "[encoded data removed]",
      "text/plain": [
       "<Figure size 432x288 with 1 Axes>"
      ]
     },
     "metadata": {
      "needs_background": "light"
     },
     "output_type": "display_data"
    }
   ],
   "source": [
    "rand_idx = np.arange(data_all.shape[2])\n",
    "np.random.shuffle(rand_idx)\n",
    "\n",
    "# for i in range(data_all.shape[2]):\n",
    "#     if actlabels_all[i] == 0:\n",
    "#         continue\n",
    "for idx in range(10):\n",
    "    i = rand_idx[idx]\n",
    "    \n",
    "    plt.plot(data_all[:,0,i], label='x')\n",
    "    plt.plot(data_all[:,1,i], label='y')\n",
    "    plt.plot(data_all[:,2,i], label='z')\n",
    "    plt.ylabel('acc value (a.u.)')\n",
    "    plt.xlabel('time (sample)')\n",
    "    plt.legend(loc='upper right')\n",
    "    if actlabels_all[i] ==1:\n",
    "        plt.title('subject {}, act {} -Fall-'.format(sub_all[i], actlabels_all[i]))\n",
    "    else:\n",
    "        plt.title('subject {}, act {} -ADL-'.format(sub_all[i], actlabels_all[i]))\n",
    "\n",
    "    plt.savefig(outputdir+'i{}_sample'.format(i))\n",
    "    plt.show()\n",
    "    plt.cla()\n",
    "    \n",
    "#     count += 1\n",
    "#     if count == 10:\n",
    "#         break"
   ]
  },
  {
   "cell_type": "code",
   "execution_count": 17,
   "metadata": {},
   "outputs": [],
   "source": [
    "# objects = ('Python', 'C++', 'Java', 'Perl', 'Scala', 'Lisp')\n",
    "# y_pos = np.arange(len(objects))\n",
    "# performance = [10,8,6,4,2,1]\n",
    "\n",
    "# plt.bar(y_pos, performance, align='center', alpha=0.5)\n",
    "# plt.xticks(y_pos, objects)\n",
    "# plt.ylabel('Usage')\n",
    "# plt.title('Programming language usage')\n",
    "\n",
    "# plt.show()"
   ]
  },
  {
   "cell_type": "code",
   "execution_count": 18,
   "metadata": {
    "colab": {},
    "colab_type": "code",
    "id": "lxXCxpx2qEyW"
   },
   "outputs": [
    {
     "data": {
      "image/png": "[encoded data removed]",
      "text/plain": [
       "<Figure size 432x288 with 1 Axes>"
      ]
     },
     "metadata": {
      "needs_background": "light"
     },
     "output_type": "display_data"
    }
   ],
   "source": [
    "# a pretty balanced dataset\n",
    "plt.hist(actlabels_all, bins=np.arange(labels_n+1)-0.5, alpha=0.5, histtype='bar', ec='black')\n",
    "plt.xticks(range(labels_n))\n",
    "plt.xlabel('activity label')\n",
    "plt.ylabel('sample N')\n",
    "plt.title('activity histogram for all data')\n",
    "plt.savefig(outputdir+'act_hist')\n",
    "plt.show()"
   ]
  },
  {
   "cell_type": "code",
   "execution_count": 19,
   "metadata": {
    "colab": {
     "base_uri": "https://localhost:8080/",
     "height": 312
    },
    "colab_type": "code",
    "executionInfo": {
     "elapsed": 6330,
     "status": "ok",
     "timestamp": 1584356241513,
     "user": {
      "displayName": "MICHAEL CHAN",
      "photoUrl": "",
      "userId": "10621351606155040584"
     },
     "user_tz": -480
    },
    "id": "wxaoKhAcxTvT",
    "outputId": "7cb42591-de37-4763-cc01-50535b289726"
   },
   "outputs": [],
   "source": [
    "# # a pretty balanced dataset\n",
    "# plt.hist(actlabels_all, bins=np.arange(labels_n+1)-0.5, alpha=0.5, histtype='bar', ec='black')\n",
    "# plt.xlabel('activity label')\n",
    "# plt.ylabel('sample N')\n",
    "# plt.title('activity histogram for all data')\n",
    "# plt.savefig(outputdir+'act_hist')\n",
    "# plt.show()\n",
    "# plt.cla()"
   ]
  },
  {
   "cell_type": "code",
   "execution_count": 20,
   "metadata": {},
   "outputs": [
    {
     "data": {
      "image/png": "[encoded data removed]",
      "text/plain": [
       "<Figure size 432x288 with 1 Axes>"
      ]
     },
     "metadata": {
      "needs_background": "light"
     },
     "output_type": "display_data"
    }
   ],
   "source": [
    "unique_sub_id, id_counts = np.unique(sub_all, return_counts=True)\n",
    "unique_sub_id = unique_sub_id.astype(int)\n",
    "y_pos = np.arange(unique_sub_id.shape[0])\n",
    "\n",
    "plt.bar(y_pos, id_counts, align='center', alpha=0.5)\n",
    "plt.xticks(y_pos, unique_sub_id)\n",
    "\n",
    "plt.xlabel('subject i')\n",
    "plt.ylabel('sample N')\n",
    "plt.title('subject histogram for all data')\n",
    "plt.savefig(outputdir+'sub_hist')\n",
    "plt.show()"
   ]
  },
  {
   "cell_type": "code",
   "execution_count": 21,
   "metadata": {},
   "outputs": [],
   "source": [
    "# plt.hist(sub_all, bins=np.asarray(range(int(sub_all.max()+2)))-0.5, alpha=0.5, histtype='bar', ec='black')\n",
    "# plt.xticks(range(int(sub_all.max()+2)))\n",
    "# plt.xlabel('subject i')\n",
    "# plt.ylabel('sample N')\n",
    "# plt.title('subject histogram for all data')\n",
    "# plt.savefig(outputdir+'sub_hist')\n",
    "# plt.show()\n",
    "# plt.cla()"
   ]
  },
  {
   "cell_type": "markdown",
   "metadata": {
    "colab_type": "text",
    "id": "0gEabWeDsJ84"
   },
   "source": [
    "# split data into train and val (1:1)\n",
    "split by sample_id"
   ]
  },
  {
   "cell_type": "code",
   "execution_count": 22,
   "metadata": {
    "colab": {},
    "colab_type": "code",
    "id": "BdyT3zzZCSpI"
   },
   "outputs": [
    {
     "name": "stdout",
     "output_type": "stream",
     "text": [
      "i_sub [] has no fall data, will exclude\n",
      "[101. 102. 103. 104. 105. 106. 107. 108. 109. 110. 203. 204. 205. 206.\n",
      " 208. 209.]\n",
      "[]\n",
      "[203. 204. 205. 206. 208. 209. 101. 102. 103. 104. 105. 106. 107. 108.\n",
      " 109. 110.]\n",
      "will split data into 5 folds\n"
     ]
    }
   ],
   "source": [
    "i_sub_unique_all = np.unique(sub_all)\n",
    "i_sub_excluded = []\n",
    "for i_sub in i_sub_unique_all:\n",
    "    idx_sub = np.where(sub_all==i_sub)[0]\n",
    "    idx_sub_fall = np.where(actlabels_all[idx_sub]==1)[0]\n",
    "    if len(idx_sub_fall)==0:\n",
    "        i_sub_excluded.append(int(i_sub))\n",
    "\n",
    "print('i_sub {} has no fall data, will exclude'.format(i_sub_excluded))\n",
    "\n",
    "i_sub_unique = np.array(list(set(i_sub_unique_all) - set(i_sub_excluded)))\n",
    "print(i_sub_unique_all)\n",
    "print(i_sub_excluded)\n",
    "print(i_sub_unique)\n",
    "\n",
    "if split_mode == 'LOO':\n",
    "    CV_n = np.shape(i_sub_unique)[0]\n",
    "elif split_mode == '5fold':\n",
    "    CV_n = int(split_mode.split('fold')[0])\n",
    "    \n",
    "print('will split data into {} folds'.format(CV_n))"
   ]
  },
  {
   "cell_type": "code",
   "execution_count": null,
   "metadata": {},
   "outputs": [],
   "source": []
  },
  {
   "cell_type": "code",
   "execution_count": 23,
   "metadata": {
    "colab": {
     "base_uri": "https://localhost:8080/",
     "height": 377
    },
    "colab_type": "code",
    "executionInfo": {
     "elapsed": 6288,
     "status": "ok",
     "timestamp": 1584356241514,
     "user": {
      "displayName": "MICHAEL CHAN",
      "photoUrl": "",
      "userId": "10621351606155040584"
     },
     "user_tz": -480
    },
    "id": "GPHp0LXksJEk",
    "outputId": "cfdf0af7-3fc2-442b-a4ee-a024d074dd74"
   },
   "outputs": [
    {
     "name": "stdout",
     "output_type": "stream",
     "text": [
      "all i_sub_unique [203. 204. 205. 206. 208. 209. 101. 102. 103. 104. 105. 106. 107. 108.\n",
      " 109. 110.]\n",
      "KFold(n_splits=5, random_state=None, shuffle=False)\n",
      "TRAIN: [101. 105. 208. 204. 109. 203. 110. 104. 103. 107. 106. 209.] VAL: [206. 108. 102. 205.]\n",
      "TRAIN: [206. 108. 102. 205. 204. 109. 203. 110. 104. 103. 107. 106. 209.] VAL: [101. 105. 208.]\n",
      "TRAIN: [206. 108. 102. 205. 101. 105. 208. 110. 104. 103. 107. 106. 209.] VAL: [204. 109. 203.]\n",
      "TRAIN: [206. 108. 102. 205. 101. 105. 208. 204. 109. 203. 107. 106. 209.] VAL: [110. 104. 103.]\n",
      "TRAIN: [206. 108. 102. 205. 101. 105. 208. 204. 109. 203. 110. 104. 103.] VAL: [107. 106. 209.]\n"
     ]
    }
   ],
   "source": [
    "from sklearn.model_selection import KFold\n",
    "kfold = CV_n\n",
    "kf = KFold(n_splits=kfold, shuffle=False)\n",
    "\n",
    "i_sub_unique = np.array(list(set(i_sub_unique_all) - set(i_sub_excluded)))\n",
    "print('all i_sub_unique', i_sub_unique)\n",
    "np.random.seed(i_seed)\n",
    "np.random.shuffle(i_sub_unique)\n",
    "kf.get_n_splits(i_sub_unique)\n",
    "print(kf)  \n",
    "\n",
    "for train_index, val_index in kf.split(i_sub_unique):\n",
    "    print(\"TRAIN:\", i_sub_unique[train_index], \"VAL:\", i_sub_unique[val_index])"
   ]
  },
  {
   "cell_type": "code",
   "execution_count": null,
   "metadata": {},
   "outputs": [],
   "source": []
  },
  {
   "cell_type": "code",
   "execution_count": null,
   "metadata": {
    "colab": {},
    "colab_type": "code",
    "id": "LlAg8WnrCXKk"
   },
   "outputs": [],
   "source": []
  },
  {
   "cell_type": "code",
   "execution_count": null,
   "metadata": {
    "colab": {},
    "colab_type": "code",
    "id": "TqUiKsyfEsV3"
   },
   "outputs": [],
   "source": []
  },
  {
   "cell_type": "markdown",
   "metadata": {
    "colab": {},
    "colab_type": "code",
    "id": "WrsqwwtMDSje"
   },
   "source": [
    "# Split based on CV results then "
   ]
  },
  {
   "cell_type": "code",
   "execution_count": 24,
   "metadata": {
    "colab": {
     "base_uri": "https://localhost:8080/",
     "height": 1000
    },
    "colab_type": "code",
    "executionInfo": {
     "elapsed": 7128,
     "status": "ok",
     "timestamp": 1584356242480,
     "user": {
      "displayName": "MICHAEL CHAN",
      "photoUrl": "",
      "userId": "10621351606155040584"
     },
     "user_tz": -480
    },
    "id": "HU2xvf93s9Kb",
    "outputId": "a612e765-6bd5-46ab-f5e0-bca9a70b30dd"
   },
   "outputs": [
    {
     "name": "stdout",
     "output_type": "stream",
     "text": [
      "Sub ID | TRAIN: [101. 105. 208. 204. 109. 203. 110. 104. 103. 107. 106. 209.] VAL: [206. 108. 102. 205.]\n",
      "train dimensions: (66, 3, 2344) (2344,) (2344,)\n",
      "val dimensions: (66, 3, 769) (769,) (769,)\n",
      "outputdir for train: /home/mchan2020/project_FDDAT/data_mic/stage1_preprocessed_18hz_5fold/SFDLA/ankle/CV0/train\n",
      "outputdir for val: /home/mchan2020/project_FDDAT/data_mic/stage1_preprocessed_18hz_5fold/SFDLA/ankle/CV0/val\n",
      "outputdir for data: /home/mchan2020/project_FDDAT/data_mic/stage1_preprocessed_18hz_5fold/SFDLA/ankle/CV0/train/data.npz\n",
      "Are data save and loadded correctly?  True\n",
      "\n",
      "outputdir for labels: /home/mchan2020/project_FDDAT/data_mic/stage1_preprocessed_18hz_5fold/SFDLA/ankle/CV0/train/labels.npz\n",
      "Are labels save and loadded correctly?  True\n",
      "\n",
      "outputdir for i_sub: /home/mchan2020/project_FDDAT/data_mic/stage1_preprocessed_18hz_5fold/SFDLA/ankle/CV0/train/i_sub.npz\n",
      "Are i_sub save and loadded correctly?  True\n",
      "\n",
      "outputdir for data: /home/mchan2020/project_FDDAT/data_mic/stage1_preprocessed_18hz_5fold/SFDLA/ankle/CV0/val/data.npz\n",
      "Are data save and loadded correctly?  True\n",
      "\n",
      "outputdir for labels: /home/mchan2020/project_FDDAT/data_mic/stage1_preprocessed_18hz_5fold/SFDLA/ankle/CV0/val/labels.npz\n",
      "Are labels save and loadded correctly?  True\n",
      "\n",
      "outputdir for i_sub: /home/mchan2020/project_FDDAT/data_mic/stage1_preprocessed_18hz_5fold/SFDLA/ankle/CV0/val/i_sub.npz\n",
      "Are i_sub save and loadded correctly?  True\n",
      "\n",
      "********* Warning *********\n",
      "All activity ID: {0.0, 1.0}\n",
      "Missing activity in labels_train: set()\n",
      "Missing activity in labels_val: set()\n",
      "***************************\n",
      "Sub ID | TRAIN: [206. 108. 102. 205. 204. 109. 203. 110. 104. 103. 107. 106. 209.] VAL: [101. 105. 208.]\n",
      "train dimensions: (66, 3, 2525) (2525,) (2525,)\n",
      "val dimensions: (66, 3, 588) (588,) (588,)\n",
      "outputdir for train: /home/mchan2020/project_FDDAT/data_mic/stage1_preprocessed_18hz_5fold/SFDLA/ankle/CV1/train\n",
      "outputdir for val: /home/mchan2020/project_FDDAT/data_mic/stage1_preprocessed_18hz_5fold/SFDLA/ankle/CV1/val\n",
      "outputdir for data: /home/mchan2020/project_FDDAT/data_mic/stage1_preprocessed_18hz_5fold/SFDLA/ankle/CV1/train/data.npz\n",
      "Are data save and loadded correctly?  True\n",
      "\n",
      "outputdir for labels: /home/mchan2020/project_FDDAT/data_mic/stage1_preprocessed_18hz_5fold/SFDLA/ankle/CV1/train/labels.npz\n",
      "Are labels save and loadded correctly?  True\n",
      "\n",
      "outputdir for i_sub: /home/mchan2020/project_FDDAT/data_mic/stage1_preprocessed_18hz_5fold/SFDLA/ankle/CV1/train/i_sub.npz\n",
      "Are i_sub save and loadded correctly?  True\n",
      "\n",
      "outputdir for data: /home/mchan2020/project_FDDAT/data_mic/stage1_preprocessed_18hz_5fold/SFDLA/ankle/CV1/val/data.npz\n",
      "Are data save and loadded correctly?  True\n",
      "\n",
      "outputdir for labels: /home/mchan2020/project_FDDAT/data_mic/stage1_preprocessed_18hz_5fold/SFDLA/ankle/CV1/val/labels.npz\n",
      "Are labels save and loadded correctly?  True\n",
      "\n",
      "outputdir for i_sub: /home/mchan2020/project_FDDAT/data_mic/stage1_preprocessed_18hz_5fold/SFDLA/ankle/CV1/val/i_sub.npz\n",
      "Are i_sub save and loadded correctly?  True\n",
      "\n",
      "********* Warning *********\n",
      "All activity ID: {0.0, 1.0}\n",
      "Missing activity in labels_train: set()\n",
      "Missing activity in labels_val: set()\n",
      "***************************\n",
      "Sub ID | TRAIN: [206. 108. 102. 205. 101. 105. 208. 110. 104. 103. 107. 106. 209.] VAL: [204. 109. 203.]\n",
      "train dimensions: (66, 3, 2540) (2540,) (2540,)\n",
      "val dimensions: (66, 3, 573) (573,) (573,)\n",
      "outputdir for train: /home/mchan2020/project_FDDAT/data_mic/stage1_preprocessed_18hz_5fold/SFDLA/ankle/CV2/train\n",
      "outputdir for val: /home/mchan2020/project_FDDAT/data_mic/stage1_preprocessed_18hz_5fold/SFDLA/ankle/CV2/val\n",
      "outputdir for data: /home/mchan2020/project_FDDAT/data_mic/stage1_preprocessed_18hz_5fold/SFDLA/ankle/CV2/train/data.npz\n",
      "Are data save and loadded correctly?  True\n",
      "\n",
      "outputdir for labels: /home/mchan2020/project_FDDAT/data_mic/stage1_preprocessed_18hz_5fold/SFDLA/ankle/CV2/train/labels.npz\n",
      "Are labels save and loadded correctly?  True\n",
      "\n",
      "outputdir for i_sub: /home/mchan2020/project_FDDAT/data_mic/stage1_preprocessed_18hz_5fold/SFDLA/ankle/CV2/train/i_sub.npz\n",
      "Are i_sub save and loadded correctly?  True\n",
      "\n",
      "outputdir for data: /home/mchan2020/project_FDDAT/data_mic/stage1_preprocessed_18hz_5fold/SFDLA/ankle/CV2/val/data.npz\n",
      "Are data save and loadded correctly?  True\n",
      "\n",
      "outputdir for labels: /home/mchan2020/project_FDDAT/data_mic/stage1_preprocessed_18hz_5fold/SFDLA/ankle/CV2/val/labels.npz\n",
      "Are labels save and loadded correctly?  True\n",
      "\n",
      "outputdir for i_sub: /home/mchan2020/project_FDDAT/data_mic/stage1_preprocessed_18hz_5fold/SFDLA/ankle/CV2/val/i_sub.npz\n",
      "Are i_sub save and loadded correctly?  True\n",
      "\n",
      "********* Warning *********\n",
      "All activity ID: {0.0, 1.0}\n",
      "Missing activity in labels_train: set()\n",
      "Missing activity in labels_val: set()\n",
      "***************************\n",
      "Sub ID | TRAIN: [206. 108. 102. 205. 101. 105. 208. 204. 109. 203. 107. 106. 209.] VAL: [110. 104. 103.]\n",
      "train dimensions: (66, 3, 2538) (2538,) (2538,)\n",
      "val dimensions: (66, 3, 575) (575,) (575,)\n",
      "outputdir for train: /home/mchan2020/project_FDDAT/data_mic/stage1_preprocessed_18hz_5fold/SFDLA/ankle/CV3/train\n",
      "outputdir for val: /home/mchan2020/project_FDDAT/data_mic/stage1_preprocessed_18hz_5fold/SFDLA/ankle/CV3/val\n",
      "outputdir for data: /home/mchan2020/project_FDDAT/data_mic/stage1_preprocessed_18hz_5fold/SFDLA/ankle/CV3/train/data.npz\n",
      "Are data save and loadded correctly?  True\n",
      "\n",
      "outputdir for labels: /home/mchan2020/project_FDDAT/data_mic/stage1_preprocessed_18hz_5fold/SFDLA/ankle/CV3/train/labels.npz\n",
      "Are labels save and loadded correctly?  True\n",
      "\n",
      "outputdir for i_sub: /home/mchan2020/project_FDDAT/data_mic/stage1_preprocessed_18hz_5fold/SFDLA/ankle/CV3/train/i_sub.npz\n",
      "Are i_sub save and loadded correctly?  True\n",
      "\n",
      "outputdir for data: /home/mchan2020/project_FDDAT/data_mic/stage1_preprocessed_18hz_5fold/SFDLA/ankle/CV3/val/data.npz\n",
      "Are data save and loadded correctly?  True\n",
      "\n",
      "outputdir for labels: /home/mchan2020/project_FDDAT/data_mic/stage1_preprocessed_18hz_5fold/SFDLA/ankle/CV3/val/labels.npz\n",
      "Are labels save and loadded correctly?  True\n",
      "\n",
      "outputdir for i_sub: /home/mchan2020/project_FDDAT/data_mic/stage1_preprocessed_18hz_5fold/SFDLA/ankle/CV3/val/i_sub.npz\n",
      "Are i_sub save and loadded correctly?  True\n",
      "\n",
      "********* Warning *********\n",
      "All activity ID: {0.0, 1.0}\n",
      "Missing activity in labels_train: set()\n",
      "Missing activity in labels_val: set()\n",
      "***************************\n",
      "Sub ID | TRAIN: [206. 108. 102. 205. 101. 105. 208. 204. 109. 203. 110. 104. 103.] VAL: [107. 106. 209.]\n",
      "train dimensions: (66, 3, 2505) (2505,) (2505,)\n",
      "val dimensions: (66, 3, 608) (608,) (608,)\n",
      "outputdir for train: /home/mchan2020/project_FDDAT/data_mic/stage1_preprocessed_18hz_5fold/SFDLA/ankle/CV4/train\n",
      "outputdir for val: /home/mchan2020/project_FDDAT/data_mic/stage1_preprocessed_18hz_5fold/SFDLA/ankle/CV4/val\n",
      "outputdir for data: /home/mchan2020/project_FDDAT/data_mic/stage1_preprocessed_18hz_5fold/SFDLA/ankle/CV4/train/data.npz\n",
      "Are data save and loadded correctly?  True\n",
      "\n",
      "outputdir for labels: /home/mchan2020/project_FDDAT/data_mic/stage1_preprocessed_18hz_5fold/SFDLA/ankle/CV4/train/labels.npz\n",
      "Are labels save and loadded correctly?  True\n",
      "\n",
      "outputdir for i_sub: /home/mchan2020/project_FDDAT/data_mic/stage1_preprocessed_18hz_5fold/SFDLA/ankle/CV4/train/i_sub.npz\n",
      "Are i_sub save and loadded correctly?  True\n",
      "\n",
      "outputdir for data: /home/mchan2020/project_FDDAT/data_mic/stage1_preprocessed_18hz_5fold/SFDLA/ankle/CV4/val/data.npz\n",
      "Are data save and loadded correctly?  True\n",
      "\n",
      "outputdir for labels: /home/mchan2020/project_FDDAT/data_mic/stage1_preprocessed_18hz_5fold/SFDLA/ankle/CV4/val/labels.npz\n",
      "Are labels save and loadded correctly?  True\n",
      "\n",
      "outputdir for i_sub: /home/mchan2020/project_FDDAT/data_mic/stage1_preprocessed_18hz_5fold/SFDLA/ankle/CV4/val/i_sub.npz\n",
      "Are i_sub save and loadded correctly?  True\n",
      "\n",
      "********* Warning *********\n",
      "All activity ID: {0.0, 1.0}\n",
      "Missing activity in labels_train: set()\n",
      "Missing activity in labels_val: set()\n",
      "***************************\n"
     ]
    }
   ],
   "source": [
    "i_CV = 0\n",
    "\n",
    "for train_idx, val_idx in kf.split(i_sub_unique):\n",
    "    print(\"Sub ID | TRAIN:\", i_sub_unique[train_idx], \"VAL:\", i_sub_unique[val_idx])\n",
    "\n",
    "    train_val_splitter(data_all, actlabels_all, sub_all, \n",
    "                       i_sub_unique[train_idx], i_sub_unique[val_idx], outputdir+'CV'+str(i_CV))\n",
    "\n",
    "    i_CV = i_CV + 1\n"
   ]
  },
  {
   "cell_type": "code",
   "execution_count": null,
   "metadata": {
    "colab": {},
    "colab_type": "code",
    "id": "1UbvYeefs9Gd"
   },
   "outputs": [],
   "source": []
  },
  {
   "cell_type": "code",
   "execution_count": null,
   "metadata": {
    "colab": {},
    "colab_type": "code",
    "id": "H7F38s-VbT5R"
   },
   "outputs": [],
   "source": []
  }
 ],
 "metadata": {
  "colab": {
   "authorship_tag": "ABX9TyPxdp4wa1p0HQ/wLEQFMao3",
   "collapsed_sections": [],
   "name": "stage1_preprocessing_UPFall.ipynb",
   "provenance": []
  },
  "kernelspec": {
   "display_name": "Python (FD_DAT)",
   "language": "python",
   "name": "fd_dat"
  },
  "language_info": {
   "codemirror_mode": {
    "name": "ipython",
    "version": 3
   },
   "file_extension": ".py",
   "mimetype": "text/x-python",
   "name": "python",
   "nbconvert_exporter": "python",
   "pygments_lexer": "ipython3",
   "version": "3.8.2"
  },
  "widgets": {
   "application/vnd.jupyter.widget-state+json": {
    "115f8f9561b440a8a609416513b217fd": {
     "model_module": "@jupyter-widgets/controls",
     "model_name": "HBoxModel",
     "state": {
      "_dom_classes": [],
      "_model_module": "@jupyter-widgets/controls",
      "_model_module_version": "1.5.0",
      "_model_name": "HBoxModel",
      "_view_count": null,
      "_view_module": "@jupyter-widgets/controls",
      "_view_module_version": "1.5.0",
      "_view_name": "HBoxView",
      "box_style": "",
      "children": [
       "IPY_MODEL_929c49d294e6495088af9b1efb3e7c64",
       "IPY_MODEL_2ffab2cf5d1944d48271910f6bdf9f18"
      ],
      "layout": "IPY_MODEL_88879110cb1d46229d89dba9d4ba1d2e"
     }
    },
    "2ffab2cf5d1944d48271910f6bdf9f18": {
     "model_module": "@jupyter-widgets/controls",
     "model_name": "HTMLModel",
     "state": {
      "_dom_classes": [],
      "_model_module": "@jupyter-widgets/controls",
      "_model_module_version": "1.5.0",
      "_model_name": "HTMLModel",
      "_view_count": null,
      "_view_module": "@jupyter-widgets/controls",
      "_view_module_version": "1.5.0",
      "_view_name": "HTMLView",
      "description": "",
      "description_tooltip": null,
      "layout": "IPY_MODEL_a9a8e69de7864086bb12f480644c74dc",
      "placeholder": "​",
      "style": "IPY_MODEL_b515c7b11eed4a299da2d94b33422b51",
      "value": "100% 558/558 [00:01&lt;00:00, 315.15it/s]"
     }
    },
    "3cf6c86ed78f45a1a6e75dc5196a219c": {
     "model_module": "@jupyter-widgets/controls",
     "model_name": "ProgressStyleModel",
     "state": {
      "_model_module": "@jupyter-widgets/controls",
      "_model_module_version": "1.5.0",
      "_model_name": "ProgressStyleModel",
      "_view_count": null,
      "_view_module": "@jupyter-widgets/base",
      "_view_module_version": "1.2.0",
      "_view_name": "StyleView",
      "bar_color": null,
      "description_width": ""
     }
    },
    "88879110cb1d46229d89dba9d4ba1d2e": {
     "model_module": "@jupyter-widgets/base",
     "model_name": "LayoutModel",
     "state": {
      "_model_module": "@jupyter-widgets/base",
      "_model_module_version": "1.2.0",
      "_model_name": "LayoutModel",
      "_view_count": null,
      "_view_module": "@jupyter-widgets/base",
      "_view_module_version": "1.2.0",
      "_view_name": "LayoutView",
      "align_content": null,
      "align_items": null,
      "align_self": null,
      "border": null,
      "bottom": null,
      "display": null,
      "flex": null,
      "flex_flow": null,
      "grid_area": null,
      "grid_auto_columns": null,
      "grid_auto_flow": null,
      "grid_auto_rows": null,
      "grid_column": null,
      "grid_gap": null,
      "grid_row": null,
      "grid_template_areas": null,
      "grid_template_columns": null,
      "grid_template_rows": null,
      "height": null,
      "justify_content": null,
      "justify_items": null,
      "left": null,
      "margin": null,
      "max_height": null,
      "max_width": null,
      "min_height": null,
      "min_width": null,
      "object_fit": null,
      "object_position": null,
      "order": null,
      "overflow": null,
      "overflow_x": null,
      "overflow_y": null,
      "padding": null,
      "right": null,
      "top": null,
      "visibility": null,
      "width": null
     }
    },
    "929c49d294e6495088af9b1efb3e7c64": {
     "model_module": "@jupyter-widgets/controls",
     "model_name": "IntProgressModel",
     "state": {
      "_dom_classes": [],
      "_model_module": "@jupyter-widgets/controls",
      "_model_module_version": "1.5.0",
      "_model_name": "IntProgressModel",
      "_view_count": null,
      "_view_module": "@jupyter-widgets/controls",
      "_view_module_version": "1.5.0",
      "_view_name": "ProgressView",
      "bar_style": "success",
      "description": "",
      "description_tooltip": null,
      "layout": "IPY_MODEL_dd6a94b24e9c4556b0951c1bab2301e9",
      "max": 558,
      "min": 0,
      "orientation": "horizontal",
      "style": "IPY_MODEL_3cf6c86ed78f45a1a6e75dc5196a219c",
      "value": 558
     }
    },
    "a9a8e69de7864086bb12f480644c74dc": {
     "model_module": "@jupyter-widgets/base",
     "model_name": "LayoutModel",
     "state": {
      "_model_module": "@jupyter-widgets/base",
      "_model_module_version": "1.2.0",
      "_model_name": "LayoutModel",
      "_view_count": null,
      "_view_module": "@jupyter-widgets/base",
      "_view_module_version": "1.2.0",
      "_view_name": "LayoutView",
      "align_content": null,
      "align_items": null,
      "align_self": null,
      "border": null,
      "bottom": null,
      "display": null,
      "flex": null,
      "flex_flow": null,
      "grid_area": null,
      "grid_auto_columns": null,
      "grid_auto_flow": null,
      "grid_auto_rows": null,
      "grid_column": null,
      "grid_gap": null,
      "grid_row": null,
      "grid_template_areas": null,
      "grid_template_columns": null,
      "grid_template_rows": null,
      "height": null,
      "justify_content": null,
      "justify_items": null,
      "left": null,
      "margin": null,
      "max_height": null,
      "max_width": null,
      "min_height": null,
      "min_width": null,
      "object_fit": null,
      "object_position": null,
      "order": null,
      "overflow": null,
      "overflow_x": null,
      "overflow_y": null,
      "padding": null,
      "right": null,
      "top": null,
      "visibility": null,
      "width": null
     }
    },
    "b515c7b11eed4a299da2d94b33422b51": {
     "model_module": "@jupyter-widgets/controls",
     "model_name": "DescriptionStyleModel",
     "state": {
      "_model_module": "@jupyter-widgets/controls",
      "_model_module_version": "1.5.0",
      "_model_name": "DescriptionStyleModel",
      "_view_count": null,
      "_view_module": "@jupyter-widgets/base",
      "_view_module_version": "1.2.0",
      "_view_name": "StyleView",
      "description_width": ""
     }
    },
    "dd6a94b24e9c4556b0951c1bab2301e9": {
     "model_module": "@jupyter-widgets/base",
     "model_name": "LayoutModel",
     "state": {
      "_model_module": "@jupyter-widgets/base",
      "_model_module_version": "1.2.0",
      "_model_name": "LayoutModel",
      "_view_count": null,
      "_view_module": "@jupyter-widgets/base",
      "_view_module_version": "1.2.0",
      "_view_name": "LayoutView",
      "align_content": null,
      "align_items": null,
      "align_self": null,
      "border": null,
      "bottom": null,
      "display": null,
      "flex": null,
      "flex_flow": null,
      "grid_area": null,
      "grid_auto_columns": null,
      "grid_auto_flow": null,
      "grid_auto_rows": null,
      "grid_column": null,
      "grid_gap": null,
      "grid_row": null,
      "grid_template_areas": null,
      "grid_template_columns": null,
      "grid_template_rows": null,
      "height": null,
      "justify_content": null,
      "justify_items": null,
      "left": null,
      "margin": null,
      "max_height": null,
      "max_width": null,
      "min_height": null,
      "min_width": null,
      "object_fit": null,
      "object_position": null,
      "order": null,
      "overflow": null,
      "overflow_x": null,
      "overflow_y": null,
      "padding": null,
      "right": null,
      "top": null,
      "visibility": null,
      "width": null
     }
    }
   }
  }
 },
 "nbformat": 4,
 "nbformat_minor": 4
}
