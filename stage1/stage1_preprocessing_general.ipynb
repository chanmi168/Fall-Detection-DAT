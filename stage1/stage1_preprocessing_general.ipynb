{
 "cells": [
  {
   "cell_type": "markdown",
   "metadata": {
    "colab_type": "text",
    "id": "nswy3ke-TUyA"
   },
   "source": [
    "# import packages and get authenticated"
   ]
  },
  {
   "cell_type": "code",
   "execution_count": null,
   "metadata": {
    "colab": {
     "base_uri": "https://localhost:8080/",
     "height": 122
    },
    "colab_type": "code",
    "executionInfo": {
     "elapsed": 246045,
     "status": "ok",
     "timestamp": 1586186251921,
     "user": {
      "displayName": "MICHAEL CHAN",
      "photoUrl": "",
      "userId": "10621351606155040584"
     },
     "user_tz": -480
    },
    "id": "dR0gs1Ya0xmy",
    "outputId": "4f60f61d-d76f-4689-8b75-d5149c40e1a4"
   },
   "outputs": [],
   "source": [
    "# from google.colab import driveA\n",
    "# drive.mount('drive')"
   ]
  },
  {
   "cell_type": "code",
   "execution_count": null,
   "metadata": {
    "colab": {},
    "colab_type": "code",
    "id": "DD6EM010PDWn"
   },
   "outputs": [],
   "source": [
    "import numpy as np\n",
    "import pandas as pd\n",
    "import scipy\n",
    "from scipy.fftpack import fft, ifft\n",
    "pd.set_option('display.max_columns', 500)\n",
    "\n",
    "# Plotting\n",
    "# checklist 1: comment inline, uncomment Agg\n",
    "%matplotlib inline\n",
    "import matplotlib\n",
    "# matplotlib.use('Agg')\n",
    "import matplotlib.pyplot as plt\n",
    "matplotlib.rc( 'savefig', facecolor = 'white' )\n",
    "\n",
    "# from tqdm import tqdm_notebook as tqdm\n",
    "from tqdm import tqdm\n",
    "import argparse\n",
    "import os\n",
    "import sys\n",
    "sys.path.append('/content/drive/My Drive/中研院/repo/')\n",
    "sys.path.append('~/project_FDDAT/repo/')\n",
    "sys.path.append('../') # add this line so Data and data are visible in this file\n",
    "\n",
    "from falldetect.utilities import *\n",
    "\n",
    "import time\n",
    "import datetime\n",
    "from datetime import datetime\n",
    "\n",
    "from sklearn.decomposition import PCA\n",
    "\n",
    "from os.path import expanduser\n",
    "home = expanduser(\"~\")\n",
    "# home_dir = home+'/project_FDDAT/'\n",
    "\n",
    "# split_mode = 'LOO'\n",
    "# split_mode = '5fold'"
   ]
  },
  {
   "cell_type": "markdown",
   "metadata": {
    "colab": {},
    "colab_type": "code",
    "id": "RwxN85X7YeSx"
   },
   "source": [
    "# Get user inputs\n",
    "In ipython notebook, these are hardcoded. In production python code, use parsers to provide these inputs"
   ]
  },
  {
   "cell_type": "code",
   "execution_count": null,
   "metadata": {},
   "outputs": [],
   "source": [
    "parser = argparse.ArgumentParser(description='FD_DAT')\n",
    "parser.add_argument('--dataset_name', metavar='dataset_name', help='dataset_name',\n",
    "                    default='UMAFall')\n",
    "parser.add_argument('--sensor_loc', metavar='sensor_loc', help='sensor_loc',\n",
    "                    default='ankle')\n",
    "parser.add_argument('--input_dir', metavar='input_dir', help='path to input_dir',\n",
    "                    default='../')\n",
    "parser.add_argument('--output_dir', metavar='output_dir', help='path to output_dir',\n",
    "                    default='../')\n",
    "parser.add_argument('--split_mode', metavar='split_mode', help='split_mode',\n",
    "                    default='5fold')\n",
    "parser.add_argument('--i_seed', metavar='i_seed', help='seed number',\n",
    "                    default='0')\n",
    "parser.add_argument('--rep_n', metavar='rep_n', help='number of repetition',\n",
    "                    default='1')\n",
    "parser.add_argument('--standardization', metavar='standardization', help='method of standardization',\n",
    "                    default='None')\n",
    "parser.add_argument('--excluded_idx', metavar='excluded_idx', \n",
    "                   default='none')\n",
    "# split_mode = 'LOO'\n",
    "# split_mode = '5fold'\n",
    "\n",
    "# checklist 2: comment first line, uncomment second line seizures_FN\n",
    "# args = parser.parse_args(['--input_dir', '../../Data/{}/ImpactWindow_Resample_NormalforAllAxes/18hz/{}/',\n",
    "#                           '--output_dir', '../../data_mic/stage1_preprocessed_NormalforAllAxes_18hz_{}/{}/{}/', \n",
    "#                           '--dataset_name', 'UMAFall', \n",
    "#                           '--sensor_loc', 'wrist',\n",
    "#                           '--split_mode', '5fold',\n",
    "#                           '--i_seed', '1',\n",
    "#                           '--excluded_idx', '1 3 9 10 12 19',])\n",
    "\n",
    "# # UPFall\n",
    "# args = parser.parse_args(['--input_dir', '../../Data/{}/ImpactWindow_Resample_NormalforAllAxes/18hz/{}/',\n",
    "#                           '--output_dir', '../../data_mic/stage1_preprocessed_NormalforAllAxes_18hz_{}/{}/{}/', \n",
    "#                           '--dataset_name', 'UPFall', \n",
    "#                           '--sensor_loc', 'ankle',\n",
    "#                           '--split_mode', '5fold',\n",
    "#                           '--i_seed', '1'])\n",
    "\n",
    "# # # SFDLA\n",
    "# args = parser.parse_args(['--input_dir', '../../Data/{}/ImpactWindow_Resample_NormalforAllAxes/18hz/{}/',\n",
    "#                           '--output_dir', '../../data_mic/stage1_preprocessed_NormalforAllAxes_18hz_{}/{}/{}/',\n",
    "# args = parser.parse_args(['--input_dir', '../../Data/{}/ImpactWindow_Resample_WithoutNormal/18hz/{}/',\n",
    "#                           '--output_dir', '../../data_mic/stage1_preprocessed_WithoutNormal_18hz_{}/{}/{}/', \n",
    "args = parser.parse_args(['--input_dir', '../../Data/{}/ImpactWindow_Resample/18hz/{}/',\n",
    "                          '--output_dir', '../../data_mic/stage1/preprocessed_18hz_{}/{}/{}/',\n",
    "                          '--dataset_name', 'UMAFall', \n",
    "                          '--sensor_loc', 'leg',\n",
    "                          '--split_mode', '5fold',\n",
    "#                           '--i_seed', '1 2 3 4 5 6 7 8 9 10',\n",
    "                          '--i_seed', '1',\n",
    "                          '--rep_n', '10',\n",
    "                          '--standardization', 'None'])\n",
    "\n",
    "                          \n",
    "\n",
    "# args = parser.parse_args()"
   ]
  },
  {
   "cell_type": "code",
   "execution_count": null,
   "metadata": {},
   "outputs": [],
   "source": [
    "input_dir = args.input_dir\n",
    "output_dir = args.output_dir\n",
    "dataset_name = args.dataset_name\n",
    "sensor_loc = args.sensor_loc\n",
    "home_dir = home+'/project_FDDAT/'\n",
    "split_mode = args.split_mode\n",
    "i_seed = int(args.i_seed)\n",
    "rep_n = int(args.rep_n)\n",
    "# i_seed_list = [int(i_seed) for i_seed in args.i_seed.split(' ')]\n",
    "standardization = args.standardization\n",
    "if args.excluded_idx == 'none':\n",
    "    excluded_idx = []\n",
    "else:\n",
    "    excluded_idx = list(map(int, args.excluded_idx.split(' ')))\n",
    "\n",
    "sampling_freq = 18.4\n",
    "print(args)"
   ]
  },
  {
   "cell_type": "code",
   "execution_count": null,
   "metadata": {},
   "outputs": [],
   "source": []
  },
  {
   "cell_type": "markdown",
   "metadata": {
    "colab_type": "text",
    "id": "8Jea1QX1Yezf"
   },
   "source": [
    "# load data_management (all) first"
   ]
  },
  {
   "cell_type": "code",
   "execution_count": null,
   "metadata": {
    "colab": {
     "base_uri": "https://localhost:8080/",
     "height": 34
    },
    "colab_type": "code",
    "executionInfo": {
     "elapsed": 8080,
     "status": "ok",
     "timestamp": 1586172114179,
     "user": {
      "displayName": "MICHAEL CHAN",
      "photoUrl": "",
      "userId": "10621351606155040584"
     },
     "user_tz": -480
    },
    "id": "bGqJRh6jrUra",
    "outputId": "3fd9ce65-0728-49f0-8448-0fc42e489cd0"
   },
   "outputs": [],
   "source": [
    "# resampled, 18.4hz\n",
    "DataNameList_inputdir = input_dir+'IP_{}_DataNameList_{}.csv'\n",
    "DataNameList_inputdir = DataNameList_inputdir.format(dataset_name, sensor_loc, dataset_name, sensor_loc)\n",
    "\n",
    "impact_inputdir = input_dir.format(dataset_name, sensor_loc)\n",
    "outputdir = output_dir.format(split_mode, dataset_name, sensor_loc)\n",
    "\n",
    "if not os.path.exists(outputdir):\n",
    "    os.makedirs(outputdir)\n",
    "print('will export data to', outputdir)\n",
    "\n",
    "df = pd.read_csv(DataNameList_inputdir)\n",
    "df.head(5)"
   ]
  },
  {
   "cell_type": "code",
   "execution_count": null,
   "metadata": {},
   "outputs": [],
   "source": [
    "df.iloc[[0,1,2],:]"
   ]
  },
  {
   "cell_type": "code",
   "execution_count": null,
   "metadata": {
    "colab": {
     "base_uri": "https://localhost:8080/",
     "height": 272
    },
    "colab_type": "code",
    "executionInfo": {
     "elapsed": 7500,
     "status": "ok",
     "timestamp": 1586172114181,
     "user": {
      "displayName": "MICHAEL CHAN",
      "photoUrl": "",
      "userId": "10621351606155040584"
     },
     "user_tz": -480
    },
    "id": "2DutI5UfmZVl",
    "outputId": "bf1f45ef-9b7e-49e7-b359-b49a32d020f8"
   },
   "outputs": [],
   "source": [
    "act_names = df['Activity_ID'].unique()\n",
    "act_embeddings = { act_names[i] : i for i in range(0, act_names.shape[0] ) }\n",
    "print(act_embeddings)"
   ]
  },
  {
   "cell_type": "code",
   "execution_count": null,
   "metadata": {
    "colab": {},
    "colab_type": "code",
    "id": "rXBx2pqPEm6n"
   },
   "outputs": [],
   "source": []
  },
  {
   "cell_type": "code",
   "execution_count": null,
   "metadata": {
    "colab": {
     "base_uri": "https://localhost:8080/",
     "height": 137,
     "referenced_widgets": [
      "3295482bbaae4e4bb61102d58c4b5943",
      "85782b4e776e465a9da1174394361341",
      "2f3fcf0f102f42529771e09f48eee1a6",
      "661b9958d0724344b888ed4cbf17cab3",
      "5c9dcd0e7a874f94ac6f12a88e50f664",
      "2b54f6a763bb4201845a596269591808",
      "4eb863073e2040c4bf095a4afd4867c3",
      "e601ce06a67d4ef4bde3899d56a077c8"
     ]
    },
    "colab_type": "code",
    "executionInfo": {
     "elapsed": 220826,
     "status": "ok",
     "timestamp": 1586172332520,
     "user": {
      "displayName": "MICHAEL CHAN",
      "photoUrl": "",
      "userId": "10621351606155040584"
     },
     "user_tz": -480
    },
    "id": "PfGH9SNEPbbc",
    "outputId": "e1c64486-f5b1-4333-8722-16766e6e8070"
   },
   "outputs": [],
   "source": [
    "if dataset_name=='UMAFall' or dataset_name=='UPFall' or dataset_name=='FARSEEING':\n",
    "    column_x_DataName = 'x_DataName'\n",
    "elif dataset_name=='SFDLA':\n",
    "    column_x_DataName = 'x_x_DataName'\n",
    "\n",
    "temp = pd.read_csv(impact_inputdir+df[column_x_DataName][0], header=None)\n",
    "\n",
    "window_length = temp.shape[0]\n",
    "samples_n = df.shape[0]\n",
    "\n",
    "data_all = np.zeros((window_length,3,samples_n))\n",
    "actlabels_all = np.zeros((samples_n,))\n",
    "sub_all = np.zeros((samples_n,))\n",
    "DataNameList_idx_all = np.zeros((samples_n,))\n",
    "\n",
    "i = 0\n",
    "for filename in tqdm(df[column_x_DataName]):\n",
    "#     sub_id = int(filename.split('_')[0])\n",
    "    row = df[df[column_x_DataName]==filename]\n",
    "    sub_id = row.Subject.item()\n",
    "    activity_id = row.FALL_1__ADL_0_.item()\n",
    "    idx = row.index[0]\n",
    "\n",
    "    position = filename.split('_')[3][:-4]\n",
    "    \n",
    "    df_imp = pd.read_csv(impact_inputdir+filename, header=None)\n",
    "\n",
    "    data_all[:,:,i] = df_imp.to_numpy()\n",
    "    actlabels_all[i] = activity_id\n",
    "    sub_all[i] = sub_id\n",
    "    DataNameList_idx_all[i] = idx\n",
    "    i += 1"
   ]
  },
  {
   "cell_type": "code",
   "execution_count": null,
   "metadata": {
    "colab": {
     "base_uri": "https://localhost:8080/",
     "height": 34
    },
    "colab_type": "code",
    "executionInfo": {
     "elapsed": 219691,
     "status": "ok",
     "timestamp": 1586172333145,
     "user": {
      "displayName": "MICHAEL CHAN",
      "photoUrl": "",
      "userId": "10621351606155040584"
     },
     "user_tz": -480
    },
    "id": "heoC0Jn-oS2J",
    "outputId": "91cce1f2-d6ac-4061-cffc-82b349412186"
   },
   "outputs": [],
   "source": [
    "fall_n = (actlabels_all==1).sum()\n",
    "adl_n = (actlabels_all==0).sum()\n",
    "\n",
    "print('fall_n, adl_n:', fall_n, adl_n)"
   ]
  },
  {
   "cell_type": "code",
   "execution_count": null,
   "metadata": {
    "colab": {
     "base_uri": "https://localhost:8080/",
     "height": 102
    },
    "colab_type": "code",
    "executionInfo": {
     "elapsed": 5646,
     "status": "ok",
     "timestamp": 1583251693461,
     "user": {
      "displayName": "MICHAEL CHAN",
      "photoUrl": "",
      "userId": "10621351606155040584"
     },
     "user_tz": -480
    },
    "id": "rkjvSVY-pWD6",
    "outputId": "7d504bbb-2747-432f-cf40-c659f928a76a"
   },
   "outputs": [],
   "source": []
  },
  {
   "cell_type": "code",
   "execution_count": null,
   "metadata": {},
   "outputs": [],
   "source": []
  },
  {
   "cell_type": "code",
   "execution_count": null,
   "metadata": {
    "colab": {},
    "colab_type": "code",
    "id": "LPzZUtxWNG4n"
   },
   "outputs": [],
   "source": [
    "if standardization == '0 mean unit var':\n",
    "    data_all = (data_all - data_all.mean()) / data_all.std()\n",
    "elif standardization == 'None':\n",
    "    pass"
   ]
  },
  {
   "cell_type": "code",
   "execution_count": null,
   "metadata": {
    "colab": {
     "base_uri": "https://localhost:8080/",
     "height": 85
    },
    "colab_type": "code",
    "executionInfo": {
     "elapsed": 5592,
     "status": "ok",
     "timestamp": 1583251693462,
     "user": {
      "displayName": "MICHAEL CHAN",
      "photoUrl": "",
      "userId": "10621351606155040584"
     },
     "user_tz": -480
    },
    "id": "VOHWDgb8Cb8R",
    "outputId": "5f686c76-80b3-439b-b5e3-5f6f0c46c53b"
   },
   "outputs": [],
   "source": [
    "samples_n = data_all.shape[2]\n",
    "labels_n = np.shape(np.unique(actlabels_all))[0]\n",
    "subjects_n = np.shape(np.unique(sub_all))[0]\n",
    "print('finished reading data in data_management {} at {}'.format(dataset_name, sensor_loc))\n",
    "print('Dimension of data', data_all.shape)\n",
    "print('number of activities', labels_n)\n",
    "print('number of subject', subjects_n)"
   ]
  },
  {
   "cell_type": "code",
   "execution_count": null,
   "metadata": {
    "colab": {
     "base_uri": "https://localhost:8080/",
     "height": 34
    },
    "colab_type": "code",
    "executionInfo": {
     "elapsed": 5461,
     "status": "ok",
     "timestamp": 1583251693463,
     "user": {
      "displayName": "MICHAEL CHAN",
      "photoUrl": "",
      "userId": "10621351606155040584"
     },
     "user_tz": -480
    },
    "id": "8Fudw3az5ZeE",
    "outputId": "dd1cff93-34bb-4999-e521-51c7b08650c6"
   },
   "outputs": [],
   "source": [
    "print('3 axes mean', np.mean(data_all,axis=(0,2)))\n",
    "print('3 axes std', np.std(data_all,axis=(0,2)))\n",
    "print('3 axes max', np.max(data_all,axis=(0,2)))\n",
    "print('3 axes min', np.min(data_all,axis=(0,2)))"
   ]
  },
  {
   "cell_type": "code",
   "execution_count": null,
   "metadata": {},
   "outputs": [],
   "source": [
    "figure=plt.figure(figsize=(5, 5), dpi= 80, facecolor='w', edgecolor='k')\n",
    "ax = figure.add_subplot(1, 1, 1)\n",
    "\n",
    "for axis in range(data_all.shape[1]):\n",
    "    ax.hist(data_all[:,axis,:].reshape(-1), 200, alpha=0.5, label='axis{}'.format(axis))\n",
    "ax.legend( fontsize = 15 )\n",
    "ax.set_ylabel('count', fontsize = 15)\n",
    "ax.set_xlabel('raw value (a.u.)', fontsize = 15)\n",
    "ax.set_title('raw value distribution', fontsize = 20)\n",
    "\n",
    "ax.set_xlim([np.min(data_all),np.max(data_all)])\n",
    "# ax.set_xlim([0.3,0.4])\n",
    "figure.savefig(outputdir + 'raw_distribution.png')"
   ]
  },
  {
   "cell_type": "code",
   "execution_count": null,
   "metadata": {},
   "outputs": [],
   "source": []
  },
  {
   "cell_type": "markdown",
   "metadata": {},
   "source": [
    "# plot FT distribution"
   ]
  },
  {
   "cell_type": "code",
   "execution_count": null,
   "metadata": {},
   "outputs": [],
   "source": [
    "\n",
    "# initialize spectral feature matrix\n",
    "N = data_all.shape[0]\n",
    "data_all_FT = np.zeros((N//2, 3, data_all.shape[2]))\n",
    "\n",
    "for i_win in range(data_all_FT.shape[2]):\n",
    "    for i_axis in range(data_all_FT.shape[1]): # don't do it for HR\n",
    "        yf = np.abs(scipy.fftpack.fft(data_all[:,i_axis,i_win]))\n",
    "        yf_scaled = 2.0/N * np.abs(yf[:N//2])\n",
    "        data_all_FT[:,i_axis,i_win] = yf_scaled\n",
    "    "
   ]
  },
  {
   "cell_type": "code",
   "execution_count": null,
   "metadata": {},
   "outputs": [],
   "source": []
  },
  {
   "cell_type": "code",
   "execution_count": null,
   "metadata": {},
   "outputs": [],
   "source": [
    "# get indices for each class\n",
    "indices_ADL = np.where(actlabels_all==0)[0]\n",
    "data_FT_ADL = data_all_FT[:,:,indices_ADL]\n",
    "\n",
    "indices_Fall = np.where(actlabels_all==1)[0]\n",
    "data_FT_Fall = data_all_FT[:,:,indices_Fall]"
   ]
  },
  {
   "cell_type": "code",
   "execution_count": null,
   "metadata": {},
   "outputs": [],
   "source": []
  },
  {
   "cell_type": "code",
   "execution_count": null,
   "metadata": {},
   "outputs": [],
   "source": [
    "T = 1/sampling_freq\n",
    "N = data_all.shape[0]\n",
    "\n",
    "def plot_FT_distribution(data_FT_ADL, data_FT_Fall, visual_resultsdir):\n",
    "    link_adl_fall = True\n",
    "    \n",
    "    i_start = 1\n",
    "    # grab data\n",
    "    xf = np.linspace(0.0, 1.0/(2.0*T), int(N/2))[i_start:]\n",
    "\n",
    "    mag_mean_Fall = np.mean(data_FT_Fall[i_start:], axis=(1,2))\n",
    "    mag_var_Fall = np.var(data_FT_Fall[i_start:], axis=(1,2))\n",
    "\n",
    "    mag_mean_ADL = np.mean(data_FT_ADL[i_start:], axis=(1,2))\n",
    "    mag_var_ADL = np.var(data_FT_ADL[i_start:], axis=(1,2))\n",
    "\n",
    "    # plt.bar(y_pos, performance, align='center', alpha=0.5)\n",
    "    figure=plt.figure(figsize=(5, 5), dpi= 80, facecolor='w', edgecolor='k')\n",
    "    ax = figure.add_subplot(1, 1, 1)\n",
    "\n",
    "    ax.plot(xf, mag_mean_Fall, color = 'red', label='Fall')\n",
    "    ax.fill_between(xf, mag_mean_Fall+mag_var_Fall, mag_mean_Fall-mag_var_Fall, alpha=0.3, color = 'red')\n",
    "\n",
    "    ax.plot(xf, mag_mean_ADL, label='ADL')\n",
    "    ax.fill_between(xf, mag_mean_ADL+mag_var_ADL, mag_mean_ADL-mag_var_ADL, alpha=0.3)\n",
    "\n",
    "    ax.legend( fontsize = 15 )\n",
    "    ax.set_ylabel('mag (a.u.)', fontsize = 15)\n",
    "    ax.set_xlabel('freq (Hz)', fontsize = 15)\n",
    "    ax.set_title('spectal engergy distribution', fontsize = 20)\n",
    "\n",
    "    figure.savefig(visual_resultsdir + 'FT_distribution.png')"
   ]
  },
  {
   "cell_type": "code",
   "execution_count": null,
   "metadata": {},
   "outputs": [],
   "source": [
    "plot_FT_distribution(data_FT_Fall, data_FT_ADL, outputdir)"
   ]
  },
  {
   "cell_type": "code",
   "execution_count": null,
   "metadata": {},
   "outputs": [],
   "source": []
  },
  {
   "cell_type": "code",
   "execution_count": null,
   "metadata": {},
   "outputs": [],
   "source": []
  },
  {
   "cell_type": "code",
   "execution_count": null,
   "metadata": {},
   "outputs": [],
   "source": [
    "plt.cla()"
   ]
  },
  {
   "cell_type": "code",
   "execution_count": null,
   "metadata": {},
   "outputs": [],
   "source": [
    "# i_seed"
   ]
  },
  {
   "cell_type": "code",
   "execution_count": null,
   "metadata": {
    "colab": {
     "base_uri": "https://localhost:8080/",
     "height": 1000
    },
    "colab_type": "code",
    "executionInfo": {
     "elapsed": 8330,
     "status": "ok",
     "timestamp": 1583251696351,
     "user": {
      "displayName": "MICHAEL CHAN",
      "photoUrl": "",
      "userId": "10621351606155040584"
     },
     "user_tz": -480
    },
    "id": "8Mi9hHHdm87Z",
    "outputId": "c0cd6d27-3daf-4ea2-84f6-49edcafea340"
   },
   "outputs": [],
   "source": [
    "rand_idx = np.arange(data_all.shape[2])\n",
    "np.random.seed(i_seed)\n",
    "np.random.shuffle(rand_idx)\n",
    "\n",
    "t_data = np.asarray(range(data_all.shape[0]))/sampling_freq\n",
    "\n",
    "for idx in range(20):\n",
    "    i = rand_idx[idx]\n",
    "    plt.plot(t_data, data_all[:,0,i], label='x', alpha=0.8)\n",
    "    plt.plot(t_data, data_all[:,1,i], label='y', alpha=0.8)\n",
    "    plt.plot(t_data, data_all[:,2,i], label='z', alpha=0.8)\n",
    "    plt.ylabel('acc value (a.u.)')\n",
    "    plt.xlabel('time (sec)')\n",
    "    plt.legend(loc='upper right')\n",
    "\n",
    "    if actlabels_all[i] == 1:\n",
    "        plt.title('sample {} subject {}, act {} -Fall-'.format(int(i), int(sub_all[i]), int(actlabels_all[i])))\n",
    "    else:\n",
    "        plt.title('sample {} subject {}, act {} -ADL-'.format(int(i), int(sub_all[i]), int(actlabels_all[i])))\n",
    "\n",
    "    plt.savefig(outputdir+'i{}_sample'.format(idx))\n",
    "    plt.show()\n",
    "    plt.cla()\n"
   ]
  },
  {
   "cell_type": "code",
   "execution_count": null,
   "metadata": {
    "colab": {},
    "colab_type": "code",
    "id": "lxXCxpx2qEyW"
   },
   "outputs": [],
   "source": []
  },
  {
   "cell_type": "code",
   "execution_count": null,
   "metadata": {
    "colab": {
     "base_uri": "https://localhost:8080/",
     "height": 312
    },
    "colab_type": "code",
    "executionInfo": {
     "elapsed": 8205,
     "status": "ok",
     "timestamp": 1583251696353,
     "user": {
      "displayName": "MICHAEL CHAN",
      "photoUrl": "",
      "userId": "10621351606155040584"
     },
     "user_tz": -480
    },
    "id": "wxaoKhAcxTvT",
    "outputId": "c86f704e-41fa-45a1-fa04-e8dab1ed1f21"
   },
   "outputs": [],
   "source": [
    "unique_label_id, labels_counts = np.unique(actlabels_all, return_counts=True)\n",
    "unique_label_id = unique_label_id.astype(int)\n",
    "y_pos = np.arange(unique_label_id.shape[0])\n",
    "\n",
    "plt.bar(y_pos, labels_counts, align='center', alpha=0.5)\n",
    "plt.xticks(y_pos, unique_label_id)\n",
    "\n",
    "# plt.hist(actlabels_all, bins=np.arange(labels_n+1)-0.5, alpha=0.5, histtype='bar', ec='black')\n",
    "# plt.xticks(range(labels_n))\n",
    "plt.xlabel('activity label')\n",
    "plt.ylabel('sample N')\n",
    "plt.title('activity histogram for {} at {}'.format(dataset_name, sensor_loc))\n",
    "plt.savefig(outputdir+'act_hist')\n",
    "plt.show()\n",
    "plt.cla()\n"
   ]
  },
  {
   "cell_type": "code",
   "execution_count": null,
   "metadata": {},
   "outputs": [],
   "source": [
    "unique_sub_id, id_counts = np.unique(sub_all, return_counts=True)\n",
    "unique_sub_id = unique_sub_id.astype(int)\n",
    "y_pos = np.arange(unique_sub_id.shape[0])\n",
    "\n",
    "plt.bar(y_pos, id_counts, align='center', alpha=0.5)\n",
    "plt.xticks(y_pos, unique_sub_id)\n",
    "\n",
    "plt.xlabel('subject i')\n",
    "plt.ylabel('sample N')\n",
    "plt.title('subject histogram for {} at {}'.format(dataset_name, sensor_loc))\n",
    "plt.savefig(outputdir+'sub_hist')\n",
    "plt.show()\n",
    "plt.cla()"
   ]
  },
  {
   "cell_type": "code",
   "execution_count": null,
   "metadata": {},
   "outputs": [],
   "source": []
  },
  {
   "cell_type": "code",
   "execution_count": null,
   "metadata": {},
   "outputs": [],
   "source": []
  },
  {
   "cell_type": "markdown",
   "metadata": {
    "colab_type": "text",
    "id": "0gEabWeDsJ84"
   },
   "source": [
    "# split data into train and val (1:1)\n",
    "split by sample_id"
   ]
  },
  {
   "cell_type": "code",
   "execution_count": null,
   "metadata": {
    "colab": {},
    "colab_type": "code",
    "id": "BdyT3zzZCSpI"
   },
   "outputs": [],
   "source": [
    "i_sub_unique_all = np.unique(sub_all)\n",
    "i_sub_excluded = []\n",
    "\n",
    "if len(excluded_idx) == 0:\n",
    "    for i_sub in i_sub_unique_all:\n",
    "        idx_sub = np.where(sub_all==i_sub)[0]\n",
    "        idx_sub_fall = np.where(actlabels_all[idx_sub]==1)[0]\n",
    "\n",
    "        if len(idx_sub_fall)==0:\n",
    "            i_sub_excluded.append(int(i_sub))\n",
    "else:\n",
    "    i_sub_excluded = excluded_idx\n",
    "\n",
    "print('i_sub {} has no fall data, will exclude'.format(i_sub_excluded))\n",
    "\n",
    "i_sub_unique = np.array(list(set(i_sub_unique_all) - set(i_sub_excluded)))\n",
    "print(i_sub_unique_all)\n",
    "print(i_sub_excluded)\n",
    "print(i_sub_unique)\n",
    "\n",
    "if split_mode == 'LOO':\n",
    "    CV_n = np.shape(i_sub_unique)[0]\n",
    "elif split_mode == '5fold':\n",
    "    CV_n = int(split_mode.split('fold')[0])\n",
    "    \n",
    "print('will split data into {} folds'.format(CV_n))"
   ]
  },
  {
   "cell_type": "code",
   "execution_count": null,
   "metadata": {},
   "outputs": [],
   "source": []
  },
  {
   "cell_type": "code",
   "execution_count": null,
   "metadata": {},
   "outputs": [],
   "source": [
    "data_all.shape, actlabels_all.shape, sub_all.shape, DataNameList_idx_all.shape\n",
    "\n",
    "data_saver(data_all, 'data', outputdir_train)\n",
    "data_saver(actlabels_all, 'labels', outputdir_train)\n",
    "data_saver(sub_all, 'i_sub', outputdir_train)\n",
    "data_saver(DataNameList_idx_all, 'DataNameList_idx', outputdir_train)\n",
    "\n"
   ]
  },
  {
   "cell_type": "code",
   "execution_count": null,
   "metadata": {
    "colab": {
     "base_uri": "https://localhost:8080/",
     "height": 411
    },
    "colab_type": "code",
    "executionInfo": {
     "elapsed": 8145,
     "status": "ok",
     "timestamp": 1583251696354,
     "user": {
      "displayName": "MICHAEL CHAN",
      "photoUrl": "",
      "userId": "10621351606155040584"
     },
     "user_tz": -480
    },
    "id": "GPHp0LXksJEk",
    "outputId": "0a005333-1bd4-401a-e400-cdb40f9c6093"
   },
   "outputs": [],
   "source": [
    "from sklearn.model_selection import KFold\n",
    "kfold = CV_n\n",
    "kf = KFold(n_splits=kfold, shuffle=False)\n",
    "\n",
    "for i_rep in range(rep_n):\n",
    "    i_sub_unique = np.array(list(set(i_sub_unique_all) - set(i_sub_excluded)))\n",
    "    print('all i_sub_unique', i_sub_unique)\n",
    "    np.random.seed(i_seed+i_rep)\n",
    "    np.random.shuffle(i_sub_unique)\n",
    "    kf.get_n_splits(i_sub_unique)\n",
    "    print(kf)  \n",
    "\n",
    "    for i_CV, (train_idx, val_idx) in enumerate(kf.split(i_sub_unique)):\n",
    "        print('----------------Splitting for rep {}, CV {}----------------'.format(i_rep, i_CV))\n",
    "        print(\"Sub ID | TRAIN:\", i_sub_unique[train_idx], \"VAL:\", i_sub_unique[val_idx])\n",
    "        print('index CV', CV_n*i_rep+i_CV)\n",
    "\n",
    "        train_val_splitter(data_all, actlabels_all, sub_all, DataNameList_idx_all,\n",
    "                       i_sub_unique[train_idx], i_sub_unique[val_idx], outputdir+'rep{}/CV{}'.format(i_rep,i_CV))\n",
    "\n",
    "\n",
    "\n",
    "# for i_rep, i_seed in enumerate(i_seed_list):\n",
    "#     i_sub_unique = np.array(list(set(i_sub_unique_all) - set(i_sub_excluded)))\n",
    "#     print('all i_sub_unique', i_sub_unique)\n",
    "#     np.random.seed(i_seed)\n",
    "#     np.random.shuffle(i_sub_unique)\n",
    "#     kf.get_n_splits(i_sub_unique)\n",
    "#     print(kf)  \n",
    "\n",
    "#     i_CV = 0\n",
    "#     for train_idx, val_idx in kf.split(i_sub_unique):\n",
    "#         print('----------------Splitting for rep {}, CV {}----------------'.format(i_rep, i_CV))\n",
    "# #         print(\"Sub ID | TRAIN:\", i_sub_unique[train_index], \"VAL:\", i_sub_unique[val_index])\n",
    "\n",
    "#         print(\"Sub ID | TRAIN:\", i_sub_unique[train_idx], \"VAL:\", i_sub_unique[val_idx])\n",
    "\n",
    "#         if len(i_seed_list) > 1:\n",
    "#             train_val_splitter(data_all, actlabels_all, sub_all, DataNameList_idx_all,\n",
    "#                            i_sub_unique[train_idx], i_sub_unique[val_idx], outputdir+'CV{}_{}'.format(i_CV, i_rep))\n",
    "#         else:\n",
    "#             train_val_splitter(data_all, actlabels_all, sub_all, DataNameList_idx_all,\n",
    "#                            i_sub_unique[train_idx], i_sub_unique[val_idx], outputdir+'CV{}'.format(i_CV))\n",
    "#         i_CV = i_CV + 1"
   ]
  },
  {
   "cell_type": "code",
   "execution_count": null,
   "metadata": {
    "colab": {},
    "colab_type": "code",
    "id": "LlAg8WnrCXKk"
   },
   "outputs": [],
   "source": []
  },
  {
   "cell_type": "code",
   "execution_count": null,
   "metadata": {
    "colab": {},
    "colab_type": "code",
    "id": "o9rZXGsQs9C4"
   },
   "outputs": [],
   "source": []
  },
  {
   "cell_type": "code",
   "execution_count": null,
   "metadata": {
    "colab": {},
    "colab_type": "code",
    "id": "_7tU_gxzKxa2"
   },
   "outputs": [],
   "source": []
  },
  {
   "cell_type": "code",
   "execution_count": null,
   "metadata": {
    "colab": {},
    "colab_type": "code",
    "id": "5_WKqQUxLLpU"
   },
   "outputs": [],
   "source": []
  },
  {
   "cell_type": "markdown",
   "metadata": {
    "colab_type": "text",
    "id": "g4mezoZotKH_"
   },
   "source": [
    "# Split based on CV results then "
   ]
  },
  {
   "cell_type": "code",
   "execution_count": null,
   "metadata": {
    "colab": {},
    "colab_type": "code",
    "id": "0rA73KVCs9MQ"
   },
   "outputs": [],
   "source": []
  },
  {
   "cell_type": "code",
   "execution_count": null,
   "metadata": {
    "colab": {
     "base_uri": "https://localhost:8080/",
     "height": 1000
    },
    "colab_type": "code",
    "executionInfo": {
     "elapsed": 9242,
     "status": "ok",
     "timestamp": 1583251697785,
     "user": {
      "displayName": "MICHAEL CHAN",
      "photoUrl": "",
      "userId": "10621351606155040584"
     },
     "user_tz": -480
    },
    "id": "HU2xvf93s9Kb",
    "outputId": "000406f6-5cad-4c49-d031-b77ffd41b2a9"
   },
   "outputs": [],
   "source": [
    "# i_CV = 0\n",
    "\n",
    "# for train_idx, val_idx in kf.split(i_sub_unique):\n",
    "#     print(\"Sub ID | TRAIN:\", i_sub_unique[train_idx], \"VAL:\", i_sub_unique[val_idx])\n",
    "\n",
    "#     train_val_splitter(data_all, actlabels_all, sub_all, DataNameList_idx_all,\n",
    "#                        i_sub_unique[train_idx], i_sub_unique[val_idx], outputdir+'CV'+str(i_CV))\n",
    "\n",
    "#     i_CV = i_CV + 1\n"
   ]
  },
  {
   "cell_type": "code",
   "execution_count": null,
   "metadata": {
    "colab": {},
    "colab_type": "code",
    "id": "1UbvYeefs9Gd"
   },
   "outputs": [],
   "source": []
  },
  {
   "cell_type": "code",
   "execution_count": null,
   "metadata": {
    "colab": {},
    "colab_type": "code",
    "id": "H7F38s-VbT5R"
   },
   "outputs": [],
   "source": []
  }
 ],
 "metadata": {
  "accelerator": "GPU",
  "colab": {
   "authorship_tag": "ABX9TyOmVdGbHUcdbZIMdtVW9BJs",
   "collapsed_sections": [],
   "name": "stage1_preprocessing_UMAFall.ipynb",
   "provenance": []
  },
  "kernelspec": {
   "display_name": "Python (FD_DAT)",
   "language": "python",
   "name": "fd_dat"
  },
  "language_info": {
   "codemirror_mode": {
    "name": "ipython",
    "version": 3
   },
   "file_extension": ".py",
   "mimetype": "text/x-python",
   "name": "python",
   "nbconvert_exporter": "python",
   "pygments_lexer": "ipython3",
   "version": "3.8.2"
  }
 },
 "nbformat": 4,
 "nbformat_minor": 4
}
